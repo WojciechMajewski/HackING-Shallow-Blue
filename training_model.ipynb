{
  "nbformat": 4,
  "nbformat_minor": 0,
  "metadata": {
    "colab": {
      "provenance": []
    },
    "kernelspec": {
      "name": "python3",
      "display_name": "Python 3"
    },
    "language_info": {
      "name": "python"
    }
  },
  "cells": [
    {
      "cell_type": "code",
      "execution_count": null,
      "metadata": {
        "id": "vh1mwTTHUJkc"
      },
      "outputs": [],
      "source": [
        "import os\n",
        "import pandas as pd\n",
        "import numpy as np\n",
        "from sklearn.feature_extraction.text import TfidfVectorizer\n",
        "\n",
        "folder = \"/content/train_set\""
      ]
    },
    {
      "cell_type": "code",
      "source": [
        "tmp_list = []\n",
        "for filename in os.listdir(folder):\n",
        "    path = os.path.join(folder, filename)\n",
        "    with open(path, encoding=\"utf8\", errors='ignore') as f:\n",
        "        lines = list(line for line in (l.strip() for l in f) if line)\n",
        "        name = filename[:len(filename) - 4]\n",
        "        name = [name for _ in lines]\n",
        "    tmp_list.extend(list(zip(name, lines)))\n",
        "df = pd.DataFrame(tmp_list, columns=[\"label\", \"text\"])\n",
        "df.head()\n",
        "df[df['text'] == ''].index"
      ],
      "metadata": {
        "id": "PzD2DFULUKTC"
      },
      "execution_count": null,
      "outputs": []
    },
    {
      "cell_type": "code",
      "source": [
        "df.label.value_counts()"
      ],
      "metadata": {
        "id": "qjuAQ5m3ULAY"
      },
      "execution_count": null,
      "outputs": []
    },
    {
      "cell_type": "code",
      "source": [
        "import spacy\n",
        "import string \n",
        "\n",
        "import spacy\n",
        "nlp = spacy.load(\"en_core_web_sm\")\n",
        "\n",
        "def clean_text(text):\n",
        "    doc = nlp(text)\n",
        "    doc = [t.lemma_.lower() for t in doc if len(t)>2]\n",
        "    doc = \" \".join([char for char in doc if char not in string.punctuation])\n",
        "    return doc\n",
        "\n",
        "cleaned_text = []\n",
        "for i in range (df.shape[0]):\n",
        "    cleaned_text.append(clean_text(df.text.iloc[i]))"
      ],
      "metadata": {
        "id": "wY0e5Y8dUNvR"
      },
      "execution_count": null,
      "outputs": []
    },
    {
      "cell_type": "code",
      "source": [
        "mapping = pd.read_pickle('/content/id2label_final.pkl', compression='infer', storage_options=None)"
      ],
      "metadata": {
        "id": "hy-HbXazUPrl"
      },
      "execution_count": null,
      "outputs": []
    },
    {
      "cell_type": "code",
      "source": [
        "df[\"label\"].replace(mapping, inplace=True)"
      ],
      "metadata": {
        "id": "Fyf4M8QOUScd"
      },
      "execution_count": null,
      "outputs": []
    },
    {
      "cell_type": "code",
      "source": [
        "df['text_clean'] = cleaned_text"
      ],
      "metadata": {
        "id": "7UTaIqVOUTXD"
      },
      "execution_count": null,
      "outputs": []
    },
    {
      "cell_type": "code",
      "source": [
        "df.to_csv('copy.csv')"
      ],
      "metadata": {
        "id": "i_067Gb1UUKL"
      },
      "execution_count": null,
      "outputs": []
    },
    {
      "cell_type": "code",
      "source": [
        "docs = list(df.text_clean.astype('str'))\n",
        "tfidf_vectorizer = TfidfVectorizer(use_idf=True, max_features = 20000) \n",
        "tfidf_vectorizer_vectors = tfidf_vectorizer.fit_transform(docs)\n",
        "docs = tfidf_vectorizer_vectors.toarray()"
      ],
      "metadata": {
        "id": "nTlEZt_8UVdB"
      },
      "execution_count": null,
      "outputs": []
    },
    {
      "cell_type": "code",
      "source": [
        "import pickle\n",
        "\n",
        "with open('vocabulary.pkl', 'wb') as fp:\n",
        "    pickle.dump(tfidf_vectorizer.vocabulary_, fp)\n",
        "    print('dictionary saved successfully to file')"
      ],
      "metadata": {
        "id": "_LPYAXLfUWvk"
      },
      "execution_count": null,
      "outputs": []
    },
    {
      "cell_type": "code",
      "source": [
        "X = docs \n",
        "y = df.label\n",
        "print(X.shape, y.shape)"
      ],
      "metadata": {
        "id": "WLA8nv8zUb9-"
      },
      "execution_count": null,
      "outputs": []
    },
    {
      "cell_type": "code",
      "source": [
        "import plotly.graph_objects as go"
      ],
      "metadata": {
        "id": "YYvjPGrlUdBA"
      },
      "execution_count": null,
      "outputs": []
    },
    {
      "cell_type": "code",
      "source": [
        "fig = go.Figure([go.Bar(x=y.value_counts().index, y=y.value_counts().tolist())])\n",
        "fig.update_layout(\n",
        "    title=\"Values in each label\",\n",
        "    xaxis_title=\"Label\",\n",
        "    yaxis_title=\"Values\")\n",
        "fig.show()"
      ],
      "metadata": {
        "id": "5U6VN8eGUdoF"
      },
      "execution_count": null,
      "outputs": []
    },
    {
      "cell_type": "code",
      "source": [
        "from sklearn.metrics import accuracy_score\n",
        "from sklearn.linear_model import LogisticRegression"
      ],
      "metadata": {
        "id": "UxmPn4obUe-j"
      },
      "execution_count": null,
      "outputs": []
    },
    {
      "cell_type": "code",
      "source": [
        "from sklearn.model_selection import train_test_split\n",
        "\n",
        "X_train, X_test, y_train, y_test = train_test_split(X, y, test_size=0.2, random_state=148260, stratify=y)"
      ],
      "metadata": {
        "id": "gvVutE-sUgFe"
      },
      "execution_count": null,
      "outputs": []
    },
    {
      "cell_type": "code",
      "source": [
        "lr = LogisticRegression(random_state=148260)\n",
        "lr.fit(X_train, y_train)\n",
        "y_pred_train = lr.predict(X_train)\n",
        "y_pred_test = lr.predict(X_test)\n",
        "print(\"\\nTraining Accuracy score:\", accuracy_score(y_train, y_pred_train))\n",
        "print(\"Testing Accuracy score:\", accuracy_score(y_test, y_pred_test))"
      ],
      "metadata": {
        "id": "HHgEjj1yUg3R"
      },
      "execution_count": null,
      "outputs": []
    },
    {
      "cell_type": "code",
      "source": [
        "y_proba_test = lr.predict_proba(X_test)"
      ],
      "metadata": {
        "id": "EDLtmvd6UjXL"
      },
      "execution_count": null,
      "outputs": []
    },
    {
      "cell_type": "code",
      "source": [
        "from sklearn.metrics import roc_auc_score\n",
        "roc_auc_score(y_test, y_proba_test, multi_class='ovr')"
      ],
      "metadata": {
        "id": "_A86JlMfUjyZ"
      },
      "execution_count": null,
      "outputs": []
    },
    {
      "cell_type": "code",
      "source": [
        "import numpy as np\n",
        "import tensorflow as tf\n",
        "import keras\n",
        "from keras.models import Sequential\n",
        "from keras.layers import Dense, Dropout\n",
        "from sklearn.model_selection import train_test_split\n",
        "from sklearn.feature_extraction.text import TfidfVectorizer\n",
        "from sklearn.preprocessing import LabelEncoder\n",
        "from sklearn.utils import class_weight\n",
        "\n",
        "y_train_ohe = pd.get_dummies(y_train, sparse=True)\n",
        "y_test_ohe = pd.get_dummies(y_test, sparse=True)\n",
        "\n",
        "model = Sequential()\n",
        "model.add(Dense(128, activation='relu', input_dim=20000))\n",
        "model.add(Dropout(0.5))\n",
        "model.add(Dense(64, activation='relu'))\n",
        "model.add(Dropout(0.5))\n",
        "model.add(Dense(21, activation='softmax'))\n",
        "\n",
        "model.compile(loss=tf.keras.losses.CategoricalCrossentropy(), optimizer='adam', metrics=['accuracy'])\n",
        "\n",
        "es = tf.keras.callbacks.EarlyStopping(monitor='val_loss', min_delta=0, patience=10, verbose=0, mode='auto', baseline=None, restore_best_weights=True)\n",
        "\n",
        "model.summary()\n",
        "\n",
        "history = model.fit(X_train, y_train_ohe, batch_size = 32, epochs = 100, callbacks=[es], validation_split=0.2)\n",
        "\n",
        "score = model.evaluate(X_test, y_test_ohe, verbose=0)\n",
        "\n",
        "print('Test loss:', score[0])\n",
        "print('Test accuracy:', score[1])"
      ],
      "metadata": {
        "id": "Dc56nhpcUlmh"
      },
      "execution_count": null,
      "outputs": []
    },
    {
      "cell_type": "code",
      "source": [
        "y_pred_ohe = model.predict(X_test) \n",
        "predictions = np.argmax(y_pred_ohe,axis=1)"
      ],
      "metadata": {
        "id": "brqFwIPFUm33"
      },
      "execution_count": null,
      "outputs": []
    },
    {
      "cell_type": "code",
      "source": [
        "import seaborn as sns\n",
        "from sklearn.metrics import confusion_matrix \n",
        "import matplotlib.pyplot as plt "
      ],
      "metadata": {
        "id": "jFIxy7e1Unx3"
      },
      "execution_count": null,
      "outputs": []
    },
    {
      "cell_type": "code",
      "source": [
        "names = list(mapping.keys())"
      ],
      "metadata": {
        "id": "3HFMt1JxUoWw"
      },
      "execution_count": null,
      "outputs": []
    },
    {
      "cell_type": "code",
      "source": [
        "cm = confusion_matrix(y_test, predictions)\n",
        "cm_matrix = pd.DataFrame(data=cm, columns=names, index=names)\n",
        "sns.heatmap(cm_matrix, annot=True, fmt='d', cmap='BuPu')\n",
        "plt.show()"
      ],
      "metadata": {
        "id": "p9L6VEAcUo_2"
      },
      "execution_count": null,
      "outputs": []
    },
    {
      "cell_type": "code",
      "source": [
        "roc_auc_score(y_test, y_pred_ohe, multi_class='ovr')"
      ],
      "metadata": {
        "id": "ciC2thXDUxDE"
      },
      "execution_count": null,
      "outputs": []
    },
    {
      "cell_type": "code",
      "source": [
        "!mkdir -p saved_model\n",
        "model.save('saved_model/my_model')"
      ],
      "metadata": {
        "id": "iRQP7YQ8UznG"
      },
      "execution_count": null,
      "outputs": []
    }
  ]
}