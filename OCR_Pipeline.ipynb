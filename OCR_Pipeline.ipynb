{
 "cells": [
  {
   "cell_type": "code",
   "execution_count": null,
   "id": "af1245db",
   "metadata": {},
   "outputs": [],
   "source": [
    "from PIL import Image\n",
    "import pytesseract\n",
    "import numpy as np\n",
    "from pytesseract import Output\n",
    "from matplotlib import pyplot as plt\n",
    "import numpy as np\n",
    "from skimage.transform import rotate\n",
    "from deskew import determine_skew\n",
    "from matplotlib import pyplot as plt\n",
    "pytesseract.pytesseract.tesseract_cmd = r\"C:/Program Files/Tesseract-OCR/tesseract.exe\"\n",
    "import os\n",
    "\n",
    "def deskew(img):\n",
    "    angle = determine_skew(img)\n",
    "    rotated = rotate(img, angle, resize=True) * 255\n",
    "    return rotated.astype(np.uint8)\n",
    "\n",
    "texts = []\n",
    "folder_path = 'test_set\\\\'\n",
    "text_file = \"OCR_READ.txt\"\n",
    "f = open(text_file, \"w\", encoding=\"utf-8\")\n",
    "index = 0\n",
    "for filename in os.listdir(folder_path):\n",
    "    if index % 100 == 0:\n",
    "        print(index)\n",
    "    index += 1\n",
    "    \n",
    "    path = os.path.join(folder_path, filename)\n",
    "    try:\n",
    "        img = Image.open(path)\n",
    "    except:\n",
    "        f.write('\\n')\n",
    "        continue\n",
    "    deskewed = deskew(np.array(img))\n",
    "    line = pytesseract.image_to_string(deskewed, config='--psm 11')\n",
    "    if len(line) == 0:\n",
    "        line = pytesseract.image_to_string(deskewed)\n",
    "    line = line.replace('\\n', ' ')\n",
    "    line = [word for word in line.split(' ') if len(word)>2]\n",
    "    f.write(' '.join(line))\n",
    "    f.write('\\n')\n",
    "f.close()"
   ]
  }
 ],
 "metadata": {
  "kernelspec": {
   "display_name": "Python 3 (ipykernel)",
   "language": "python",
   "name": "python3"
  },
  "language_info": {
   "codemirror_mode": {
    "name": "ipython",
    "version": 3
   },
   "file_extension": ".py",
   "mimetype": "text/x-python",
   "name": "python",
   "nbconvert_exporter": "python",
   "pygments_lexer": "ipython3",
   "version": "3.11.3"
  }
 },
 "nbformat": 4,
 "nbformat_minor": 5
}
